{
 "cells": [
  {
   "cell_type": "code",
   "execution_count": null,
   "id": "91a4b25e",
   "metadata": {},
   "outputs": [],
   "source": [
    "import pandas as pd\n",
    "import os\n",
    "import matplotlib.pyplot as plt"
   ]
  },
  {
   "cell_type": "markdown",
   "id": "0f5cc68f",
   "metadata": {},
   "source": [
    "### Mergining 12 months of sales data into a single file"
   ]
  },
  {
   "cell_type": "code",
   "execution_count": null,
   "id": "09612572",
   "metadata": {},
   "outputs": [],
   "source": [
    "df1 = pd.read_csv(\"./Sales_Data/Sales_April_2019.csv\")"
   ]
  },
  {
   "cell_type": "markdown",
   "id": "4fee8d1f",
   "metadata": {},
   "source": [
    " os.listdir() method gets the list of all files and directories in a specified directory. By default, it is the current directory. Beyond the first level of folders, os.listdir() does not return any files or folders."
   ]
  },
  {
   "cell_type": "code",
   "execution_count": null,
   "id": "461e2148",
   "metadata": {
    "scrolled": true
   },
   "outputs": [],
   "source": [
    "sale_path = \"./Sales_Data\"\n",
    "dir_list_1 = os.listdir(sale_path)\n",
    "\n",
    "\n",
    "\n",
    "\n",
    "\n",
    "#concatFilesFromDir does create new data frame contain concatinate all files in the directory\n",
    "#param Dir\n",
    "#param currentPathName: current path name of the directory\n",
    "def concatFilesFromDir(Dir, currentPathName):\n",
    "    all_file = pd.DataFrame()\n",
    "    for file in Dir:\n",
    "        current_file= pd.read_csv(currentPathName + \"/\"+ file) #read current file\n",
    "        all_file = pd.concat([all_file, current_file]) #concat files\n",
    "    return all_file\n",
    "\n",
    "all_file = concatFilesFromDir(dir_list_1, sale_path)\n",
    "all_file = all_file.dropna(how='all') #drop file with NaN values\n",
    "all_file.to_csv(\"all_file.csv\", index = False)\n",
    "# all_file.head(100)\n"
   ]
  },
  {
   "cell_type": "markdown",
   "id": "3da5149c",
   "metadata": {},
   "source": [
    "Read in updated dataframe"
   ]
  },
  {
   "cell_type": "markdown",
   "id": "c67a35fb",
   "metadata": {},
   "source": [
    "### Question1: What was the best month for sales? How much was earned tha month?"
   ]
  },
  {
   "cell_type": "code",
   "execution_count": null,
   "id": "9fc67bad",
   "metadata": {},
   "outputs": [],
   "source": [
    "#delete 'or' in order date.\n",
    "all_file = all_file[all_file['Order Date'].str[0:2] != 'Or'] # see where the error happen\n",
    "\n",
    "#Add Month column.\n",
    "all_file['Month'] = all_file['Order Date'].str[0:2]\n",
    "\n",
    "#Convert colums to correct type\n",
    "all_file['Month'] = all_file['Month']\n",
    "all_file['Quantity Ordered'] = pd.to_numeric(all_file['Quantity Ordered'])\n",
    "all_file['Price Each'] = pd.to_numeric(all_file['Price Each'])\n",
    "\n",
    "\n",
    "\n",
    "#find per_order_sale_value = 'Quantity Ordered' * 'Price Each'\n",
    "all_file['per_order_sale_value'] = all_file['Quantity Ordered'] * all_file['Price Each']\n",
    "\n",
    "# Find best month with best sale\n",
    "\n",
    "monthly_sale_value_y = all_file.groupby('Month').sum('numeric_only')\n",
    "months_x = range(1,13)\n",
    "\n",
    "plt.bar(months_x, monthly_sale_value_y['per_order_sale_value'])\n",
    "plt.xticks(months_x)\n",
    "plt.ylabel('sale in usd')\n",
    "plt.xlabel('Month')\n",
    "plt.show\n",
    "\n",
    "### Answer ----> December have highest sale "
   ]
  },
  {
   "cell_type": "code",
   "execution_count": null,
   "id": "57ba3de0",
   "metadata": {},
   "outputs": [],
   "source": [
    "all_file.head()"
   ]
  },
  {
   "cell_type": "markdown",
   "id": "1ac57498",
   "metadata": {},
   "source": [
    "### Question2: What city had the highest number of sales."
   ]
  },
  {
   "cell_type": "code",
   "execution_count": null,
   "id": "165912c3",
   "metadata": {},
   "outputs": [],
   "source": [
    "temp_file = all_file\n",
    "\n",
    "#function get_city \n",
    "def get_city(adress):\n",
    "    return adress.split(',')[1]\n",
    "\n",
    "#function get_state\n",
    "def get_state(adress):\n",
    "    return (adress.split(',')[2]).split(' ')[1]\n",
    "\n",
    "\n",
    "#apply function on the col using lambda to get the city name\n",
    "temp_file['City'] = temp_file['Purchase Address'].apply(lambda x: get_city(x))\n",
    "temp_file['City'] = temp_file['City'] + ', '+ temp_file['Purchase Address'].apply(lambda x: get_state(x))\n",
    "cities_x = [city for city, df in temp_file.groupby('City')]\n",
    "cities_sale_values_y = temp_file.groupby('City').sum('numeric_only')['per_order_sale_value']\n",
    "\n",
    "plt.bar(cities_x, cities_sale_values_y)\n",
    "plt.xticks(cities_x, rotation ='vertical', size =8)\n",
    "plt.show()\n"
   ]
  },
  {
   "cell_type": "markdown",
   "id": "1f17f8c4",
   "metadata": {},
   "source": [
    "### What time should we display advertisement to maximize likehood of customer's buying prodict?"
   ]
  },
  {
   "cell_type": "code",
   "execution_count": null,
   "id": "c251a7e6",
   "metadata": {},
   "outputs": [],
   "source": [
    "all_file['Order Date'] = pd.to_datetime(all_file['Order Date'])"
   ]
  },
  {
   "cell_type": "code",
   "execution_count": null,
   "id": "57d1de95",
   "metadata": {},
   "outputs": [],
   "source": [
    "all_file['Hour'] = all_file['Order Date'].dt.hour #dt.hour is an build in function to extract data from date format\n",
    "all_file['Minute'] = all_file['Order Date'].dt.minute\n",
    "all_file.head(10)"
   ]
  },
  {
   "cell_type": "code",
   "execution_count": null,
   "id": "01f01aaf",
   "metadata": {},
   "outputs": [],
   "source": [
    "hours = [hour for hour, df in all_file.groupby('Hour')]\n",
    "\n",
    "graph_1_x = hours\n",
    "graph_1_y = all_file.groupby(all_file['Hour']).count()\n",
    "\n",
    "\n",
    "plt.plot(graph_1_x, graph_1_y )\n",
    "plt.xticks(hours)\n",
    "plt.grid()\n",
    "plt.xlabel('Hour')\n",
    "plt.ylabel('Number of sale per hour')\n",
    "plt.show()"
   ]
  },
  {
   "cell_type": "markdown",
   "id": "4a89039c",
   "metadata": {},
   "source": [
    "#### answer: the best time to advertisment is 11-13 and 17-20"
   ]
  },
  {
   "cell_type": "markdown",
   "id": "efd02d8d",
   "metadata": {},
   "source": [
    "## Queston4: What product are most often sale together?"
   ]
  },
  {
   "cell_type": "code",
   "execution_count": null,
   "id": "9bcd2e45",
   "metadata": {},
   "outputs": [],
   "source": [
    "df = all_file[all_file['Order ID'].duplicated(keep=False)] #only checked for the deplicated\n",
    "\n",
    "df.head(20)"
   ]
  },
  {
   "cell_type": "code",
   "execution_count": null,
   "id": "5d664b52",
   "metadata": {},
   "outputs": [],
   "source": []
  },
  {
   "cell_type": "code",
   "execution_count": null,
   "id": "7a74a456",
   "metadata": {},
   "outputs": [],
   "source": []
  }
 ],
 "metadata": {
  "kernelspec": {
   "display_name": "Python 3 (ipykernel)",
   "language": "python",
   "name": "python3"
  },
  "language_info": {
   "codemirror_mode": {
    "name": "ipython",
    "version": 3
   },
   "file_extension": ".py",
   "mimetype": "text/x-python",
   "name": "python",
   "nbconvert_exporter": "python",
   "pygments_lexer": "ipython3",
   "version": "3.11.4"
  }
 },
 "nbformat": 4,
 "nbformat_minor": 5
}
