{
 "cells": [
  {
   "cell_type": "code",
   "execution_count": 295,
   "id": "91a4b25e",
   "metadata": {},
   "outputs": [],
   "source": [
    "import pandas as pd\n",
    "import os\n",
    "import matplotlib.pyplot as plt"
   ]
  },
  {
   "cell_type": "markdown",
   "id": "0f5cc68f",
   "metadata": {},
   "source": [
    "### Mergining 12 months of sales data into a single file"
   ]
  },
  {
   "cell_type": "code",
   "execution_count": 296,
   "id": "09612572",
   "metadata": {},
   "outputs": [],
   "source": [
    "df1 = pd.read_csv(\"./Sales_Data/Sales_April_2019.csv\")"
   ]
  },
  {
   "cell_type": "markdown",
   "id": "4fee8d1f",
   "metadata": {},
   "source": [
    " os.listdir() method gets the list of all files and directories in a specified directory. By default, it is the current directory. Beyond the first level of folders, os.listdir() does not return any files or folders."
   ]
  },
  {
   "cell_type": "code",
   "execution_count": 297,
   "id": "461e2148",
   "metadata": {
    "scrolled": true
   },
   "outputs": [],
   "source": [
    "sale_path = \"./Sales_Data\"\n",
    "dir_list_1 = os.listdir(sale_path)\n",
    "\n",
    "\n",
    "\n",
    "\n",
    "\n",
    "#concatFilesFromDir does create new data frame contain concatinate all files in the directory\n",
    "#param Dir\n",
    "#param currentPathName: current path name of the directory\n",
    "def concatFilesFromDir(Dir, currentPathName):\n",
    "    all_file = pd.DataFrame()\n",
    "    for file in Dir:\n",
    "        current_file= pd.read_csv(currentPathName + \"/\"+ file) #read current file\n",
    "        all_file = pd.concat([all_file, current_file]) #concat files\n",
    "    return all_file\n",
    "\n",
    "all_file = concatFilesFromDir(dir_list_1, sale_path)\n",
    "all_file = all_file.dropna(how='all') #drop file with NaN values\n",
    "all_file.to_csv(\"all_file.csv\", index = False)\n",
    "# all_file.head(100)\n"
   ]
  },
  {
   "cell_type": "markdown",
   "id": "3da5149c",
   "metadata": {},
   "source": [
    "Read in updated dataframe"
   ]
  },
  {
   "cell_type": "markdown",
   "id": "c67a35fb",
   "metadata": {},
   "source": [
    "### Question1: What was the best month for sales? How much was earned tha month?"
   ]
  },
  {
   "cell_type": "code",
   "execution_count": 298,
   "id": "9fc67bad",
   "metadata": {},
   "outputs": [
    {
     "data": {
      "text/plain": [
       "<function matplotlib.pyplot.show(close=None, block=None)>"
      ]
     },
     "execution_count": 298,
     "metadata": {},
     "output_type": "execute_result"
    },
    {
     "data": {
      "image/png": "[encoded data removed]",
      "text/plain": [
       "<Figure size 640x480 with 1 Axes>"
      ]
     },
     "metadata": {},
     "output_type": "display_data"
    }
   ],
   "source": [
    "#delete 'or' in order date.\n",
    "all_file = all_file[all_file['Order Date'].str[0:2] != 'Or'] # see where the error happen\n",
    "\n",
    "#Add Month column.\n",
    "all_file['Month'] = all_file['Order Date'].str[0:2]\n",
    "\n",
    "#Convert colums to correct type\n",
    "all_file['Month'] = all_file['Month']\n",
    "all_file['Quantity Ordered'] = pd.to_numeric(all_file['Quantity Ordered'])\n",
    "all_file['Price Each'] = pd.to_numeric(all_file['Price Each'])\n",
    "\n",
    "\n",
    "\n",
    "#find per_order_sale_value = 'Quantity Ordered' * 'Price Each'\n",
    "all_file['per_order_sale_value'] = all_file['Quantity Ordered'] * all_file['Price Each']\n",
    "\n",
    "# Find best month with best sale\n",
    "\n",
    "monthly_sale_value_y = all_file.groupby('Month').sum('numeric_only')\n",
    "months_x = range(1,13)\n",
    "\n",
    "plt.bar(months_x, monthly_sale_value_y['per_order_sale_value'])\n",
    "plt.xticks(months_x)\n",
    "plt.ylabel('sale in usd')\n",
    "plt.xlabel('Month')\n",
    "plt.show\n",
    "\n",
    "### Answer ----> December have highest sale "
   ]
  },
  {
   "cell_type": "code",
   "execution_count": 290,
   "id": "57ba3de0",
   "metadata": {},
   "outputs": [
    {
     "data": {
      "text/html": [
       "<div>\n",
       "<style scoped>\n",
       "    .dataframe tbody tr th:only-of-type {\n",
       "        vertical-align: middle;\n",
       "    }\n",
       "\n",
       "    .dataframe tbody tr th {\n",
       "        vertical-align: top;\n",
       "    }\n",
       "\n",
       "    .dataframe thead th {\n",
       "        text-align: right;\n",
       "    }\n",
       "</style>\n",
       "<table border=\"1\" class=\"dataframe\">\n",
       "  <thead>\n",
       "    <tr style=\"text-align: right;\">\n",
       "      <th></th>\n",
       "      <th>Order ID</th>\n",
       "      <th>Product</th>\n",
       "      <th>Quantity Ordered</th>\n",
       "      <th>Price Each</th>\n",
       "      <th>Order Date</th>\n",
       "      <th>Purchase Address</th>\n",
       "      <th>Month</th>\n",
       "      <th>per_order_sale_value</th>\n",
       "      <th>City</th>\n",
       "    </tr>\n",
       "  </thead>\n",
       "  <tbody>\n",
       "    <tr>\n",
       "      <th>0</th>\n",
       "      <td>176558</td>\n",
       "      <td>USB-C Charging Cable</td>\n",
       "      <td>2</td>\n",
       "      <td>11.95</td>\n",
       "      <td>04/19/19 08:46</td>\n",
       "      <td>917 1st St, Dallas, TX 75001</td>\n",
       "      <td>04</td>\n",
       "      <td>23.90</td>\n",
       "      <td>Dallas, TX</td>\n",
       "    </tr>\n",
       "    <tr>\n",
       "      <th>2</th>\n",
       "      <td>176559</td>\n",
       "      <td>Bose SoundSport Headphones</td>\n",
       "      <td>1</td>\n",
       "      <td>99.99</td>\n",
       "      <td>04/07/19 22:30</td>\n",
       "      <td>682 Chestnut St, Boston, MA 02215</td>\n",
       "      <td>04</td>\n",
       "      <td>99.99</td>\n",
       "      <td>Boston, MA</td>\n",
       "    </tr>\n",
       "    <tr>\n",
       "      <th>3</th>\n",
       "      <td>176560</td>\n",
       "      <td>Google Phone</td>\n",
       "      <td>1</td>\n",
       "      <td>600.00</td>\n",
       "      <td>04/12/19 14:38</td>\n",
       "      <td>669 Spruce St, Los Angeles, CA 90001</td>\n",
       "      <td>04</td>\n",
       "      <td>600.00</td>\n",
       "      <td>Los Angeles, CA</td>\n",
       "    </tr>\n",
       "    <tr>\n",
       "      <th>4</th>\n",
       "      <td>176560</td>\n",
       "      <td>Wired Headphones</td>\n",
       "      <td>1</td>\n",
       "      <td>11.99</td>\n",
       "      <td>04/12/19 14:38</td>\n",
       "      <td>669 Spruce St, Los Angeles, CA 90001</td>\n",
       "      <td>04</td>\n",
       "      <td>11.99</td>\n",
       "      <td>Los Angeles, CA</td>\n",
       "    </tr>\n",
       "    <tr>\n",
       "      <th>5</th>\n",
       "      <td>176561</td>\n",
       "      <td>Wired Headphones</td>\n",
       "      <td>1</td>\n",
       "      <td>11.99</td>\n",
       "      <td>04/30/19 09:27</td>\n",
       "      <td>333 8th St, Los Angeles, CA 90001</td>\n",
       "      <td>04</td>\n",
       "      <td>11.99</td>\n",
       "      <td>Los Angeles, CA</td>\n",
       "    </tr>\n",
       "  </tbody>\n",
       "</table>\n",
       "</div>"
      ],
      "text/plain": [
       "  Order ID                     Product  Quantity Ordered  Price Each  \\\n",
       "0   176558        USB-C Charging Cable                 2       11.95   \n",
       "2   176559  Bose SoundSport Headphones                 1       99.99   \n",
       "3   176560                Google Phone                 1      600.00   \n",
       "4   176560            Wired Headphones                 1       11.99   \n",
       "5   176561            Wired Headphones                 1       11.99   \n",
       "\n",
       "       Order Date                      Purchase Address Month  \\\n",
       "0  04/19/19 08:46          917 1st St, Dallas, TX 75001    04   \n",
       "2  04/07/19 22:30     682 Chestnut St, Boston, MA 02215    04   \n",
       "3  04/12/19 14:38  669 Spruce St, Los Angeles, CA 90001    04   \n",
       "4  04/12/19 14:38  669 Spruce St, Los Angeles, CA 90001    04   \n",
       "5  04/30/19 09:27     333 8th St, Los Angeles, CA 90001    04   \n",
       "\n",
       "   per_order_sale_value              City  \n",
       "0                 23.90        Dallas, TX  \n",
       "2                 99.99        Boston, MA  \n",
       "3                600.00   Los Angeles, CA  \n",
       "4                 11.99   Los Angeles, CA  \n",
       "5                 11.99   Los Angeles, CA  "
      ]
     },
     "execution_count": 290,
     "metadata": {},
     "output_type": "execute_result"
    }
   ],
   "source": [
    "all_file.head()"
   ]
  },
  {
   "cell_type": "markdown",
   "id": "1ac57498",
   "metadata": {},
   "source": [
    "### Question2: What city had the highest number of sales."
   ]
  },
  {
   "cell_type": "code",
   "execution_count": 299,
   "id": "165912c3",
   "metadata": {},
   "outputs": [
    {
     "data": {
      "image/png": "[encoded data removed]",
      "text/plain": [
       "<Figure size 640x480 with 1 Axes>"
      ]
     },
     "metadata": {},
     "output_type": "display_data"
    }
   ],
   "source": [
    "temp_file = all_file\n",
    "\n",
    "#function get_city \n",
    "def get_city(adress):\n",
    "    return adress.split(',')[1]\n",
    "\n",
    "#function get_state\n",
    "def get_state(adress):\n",
    "    return (adress.split(',')[2]).split(' ')[1]\n",
    "\n",
    "\n",
    "#apply function on the col using lambda to get the city name\n",
    "temp_file['City'] = temp_file['Purchase Address'].apply(lambda x: get_city(x))\n",
    "temp_file['City'] = temp_file['City'] + ', '+ temp_file['Purchase Address'].apply(lambda x: get_state(x))\n",
    "cities_x = [city for city, df in temp_file.groupby('City')]\n",
    "cities_sale_values_y = temp_file.groupby('City').sum('numeric_only')['per_order_sale_value']\n",
    "\n",
    "plt.bar(cities_x, cities_sale_values_y)\n",
    "plt.xticks(cities_x, rotation ='vertical', size =8)\n",
    "plt.show()\n"
   ]
  },
  {
   "cell_type": "markdown",
   "id": "1f17f8c4",
   "metadata": {},
   "source": [
    "### What time should we display advertisement to maximize likehood of customer's buying prodict?"
   ]
  },
  {
   "cell_type": "code",
   "execution_count": 289,
   "id": "c251a7e6",
   "metadata": {},
   "outputs": [
    {
     "data": {
      "text/html": [
       "<div>\n",
       "<style scoped>\n",
       "    .dataframe tbody tr th:only-of-type {\n",
       "        vertical-align: middle;\n",
       "    }\n",
       "\n",
       "    .dataframe tbody tr th {\n",
       "        vertical-align: top;\n",
       "    }\n",
       "\n",
       "    .dataframe thead th {\n",
       "        text-align: right;\n",
       "    }\n",
       "</style>\n",
       "<table border=\"1\" class=\"dataframe\">\n",
       "  <thead>\n",
       "    <tr style=\"text-align: right;\">\n",
       "      <th></th>\n",
       "      <th>Order ID</th>\n",
       "      <th>Product</th>\n",
       "      <th>Quantity Ordered</th>\n",
       "      <th>Price Each</th>\n",
       "      <th>Order Date</th>\n",
       "      <th>Purchase Address</th>\n",
       "      <th>Month</th>\n",
       "      <th>per_order_sale_value</th>\n",
       "      <th>City</th>\n",
       "    </tr>\n",
       "  </thead>\n",
       "  <tbody>\n",
       "    <tr>\n",
       "      <th>0</th>\n",
       "      <td>176558</td>\n",
       "      <td>USB-C Charging Cable</td>\n",
       "      <td>2</td>\n",
       "      <td>11.95</td>\n",
       "      <td>04/19/19 08:46</td>\n",
       "      <td>917 1st St, Dallas, TX 75001</td>\n",
       "      <td>04</td>\n",
       "      <td>23.90</td>\n",
       "      <td>Dallas, TX</td>\n",
       "    </tr>\n",
       "    <tr>\n",
       "      <th>2</th>\n",
       "      <td>176559</td>\n",
       "      <td>Bose SoundSport Headphones</td>\n",
       "      <td>1</td>\n",
       "      <td>99.99</td>\n",
       "      <td>04/07/19 22:30</td>\n",
       "      <td>682 Chestnut St, Boston, MA 02215</td>\n",
       "      <td>04</td>\n",
       "      <td>99.99</td>\n",
       "      <td>Boston, MA</td>\n",
       "    </tr>\n",
       "    <tr>\n",
       "      <th>3</th>\n",
       "      <td>176560</td>\n",
       "      <td>Google Phone</td>\n",
       "      <td>1</td>\n",
       "      <td>600.00</td>\n",
       "      <td>04/12/19 14:38</td>\n",
       "      <td>669 Spruce St, Los Angeles, CA 90001</td>\n",
       "      <td>04</td>\n",
       "      <td>600.00</td>\n",
       "      <td>Los Angeles, CA</td>\n",
       "    </tr>\n",
       "    <tr>\n",
       "      <th>4</th>\n",
       "      <td>176560</td>\n",
       "      <td>Wired Headphones</td>\n",
       "      <td>1</td>\n",
       "      <td>11.99</td>\n",
       "      <td>04/12/19 14:38</td>\n",
       "      <td>669 Spruce St, Los Angeles, CA 90001</td>\n",
       "      <td>04</td>\n",
       "      <td>11.99</td>\n",
       "      <td>Los Angeles, CA</td>\n",
       "    </tr>\n",
       "    <tr>\n",
       "      <th>5</th>\n",
       "      <td>176561</td>\n",
       "      <td>Wired Headphones</td>\n",
       "      <td>1</td>\n",
       "      <td>11.99</td>\n",
       "      <td>04/30/19 09:27</td>\n",
       "      <td>333 8th St, Los Angeles, CA 90001</td>\n",
       "      <td>04</td>\n",
       "      <td>11.99</td>\n",
       "      <td>Los Angeles, CA</td>\n",
       "    </tr>\n",
       "  </tbody>\n",
       "</table>\n",
       "</div>"
      ],
      "text/plain": [
       "  Order ID                     Product  Quantity Ordered  Price Each  \\\n",
       "0   176558        USB-C Charging Cable                 2       11.95   \n",
       "2   176559  Bose SoundSport Headphones                 1       99.99   \n",
       "3   176560                Google Phone                 1      600.00   \n",
       "4   176560            Wired Headphones                 1       11.99   \n",
       "5   176561            Wired Headphones                 1       11.99   \n",
       "\n",
       "       Order Date                      Purchase Address Month  \\\n",
       "0  04/19/19 08:46          917 1st St, Dallas, TX 75001    04   \n",
       "2  04/07/19 22:30     682 Chestnut St, Boston, MA 02215    04   \n",
       "3  04/12/19 14:38  669 Spruce St, Los Angeles, CA 90001    04   \n",
       "4  04/12/19 14:38  669 Spruce St, Los Angeles, CA 90001    04   \n",
       "5  04/30/19 09:27     333 8th St, Los Angeles, CA 90001    04   \n",
       "\n",
       "   per_order_sale_value              City  \n",
       "0                 23.90        Dallas, TX  \n",
       "2                 99.99        Boston, MA  \n",
       "3                600.00   Los Angeles, CA  \n",
       "4                 11.99   Los Angeles, CA  \n",
       "5                 11.99   Los Angeles, CA  "
      ]
     },
     "execution_count": 289,
     "metadata": {},
     "output_type": "execute_result"
    }
   ],
   "source": [
    "all_file.head()"
   ]
  },
  {
   "cell_type": "code",
   "execution_count": null,
   "id": "57d1de95",
   "metadata": {},
   "outputs": [],
   "source": []
  }
 ],
 "metadata": {
  "kernelspec": {
   "display_name": "Python 3 (ipykernel)",
   "language": "python",
   "name": "python3"
  },
  "language_info": {
   "codemirror_mode": {
    "name": "ipython",
    "version": 3
   },
   "file_extension": ".py",
   "mimetype": "text/x-python",
   "name": "python",
   "nbconvert_exporter": "python",
   "pygments_lexer": "ipython3",
   "version": "3.11.4"
  }
 },
 "nbformat": 4,
 "nbformat_minor": 5
}
