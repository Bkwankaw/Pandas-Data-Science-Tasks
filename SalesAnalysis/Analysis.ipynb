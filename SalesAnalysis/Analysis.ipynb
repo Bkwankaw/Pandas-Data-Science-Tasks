{
 "cells": [
  {
   "cell_type": "code",
   "execution_count": 32,
   "id": "91a4b25e",
   "metadata": {},
   "outputs": [],
   "source": [
    "import pandas as pd\n",
    "import os\n",
    "import matplotlib.pyplot as plt"
   ]
  },
  {
   "cell_type": "markdown",
   "id": "0f5cc68f",
   "metadata": {},
   "source": [
    "### Mergining 12 months of sales data into a single file"
   ]
  },
  {
   "cell_type": "code",
   "execution_count": 33,
   "id": "09612572",
   "metadata": {},
   "outputs": [],
   "source": [
    "df1 = pd.read_csv(\"./Sales_Data/Sales_April_2019.csv\")"
   ]
  },
  {
   "cell_type": "markdown",
   "id": "4fee8d1f",
   "metadata": {},
   "source": [
    " os.listdir() method gets the list of all files and directories in a specified directory. By default, it is the current directory. Beyond the first level of folders, os.listdir() does not return any files or folders."
   ]
  },
  {
   "cell_type": "code",
   "execution_count": 34,
   "id": "461e2148",
   "metadata": {
    "scrolled": true
   },
   "outputs": [],
   "source": [
    "sale_path = \"./Sales_Data\"\n",
    "dir_list_1 = os.listdir(sale_path)\n",
    "\n",
    "\n",
    "\n",
    "\n",
    "\n",
    "#concatFilesFromDir does create new data frame contain concatinate all files in the directory\n",
    "#param Dir\n",
    "#param currentPathName: current path name of the directory\n",
    "def concatFilesFromDir(Dir, currentPathName):\n",
    "    all_file = pd.DataFrame()\n",
    "    for file in Dir:\n",
    "        current_file= pd.read_csv(currentPathName + \"/\"+ file) #read current file\n",
    "        all_file = pd.concat([all_file, current_file]) #concat files\n",
    "    return all_file\n",
    "\n",
    "all_file = concatFilesFromDir(dir_list_1, sale_path)\n",
    "all_file = all_file.dropna(how='all') #drop file with NaN values\n",
    "all_file.to_csv(\"all_file.csv\", index = False)\n",
    "# all_file.head(100)\n"
   ]
  },
  {
   "cell_type": "markdown",
   "id": "3da5149c",
   "metadata": {},
   "source": [
    "Read in updated dataframe"
   ]
  },
  {
   "cell_type": "markdown",
   "id": "c67a35fb",
   "metadata": {},
   "source": [
    "### Question1: What was the best month for sales? How much was earned tha month?"
   ]
  },
  {
   "cell_type": "code",
   "execution_count": 35,
   "id": "9fc67bad",
   "metadata": {},
   "outputs": [
    {
     "data": {
      "text/plain": [
       "<function matplotlib.pyplot.show(close=None, block=None)>"
      ]
     },
     "execution_count": 35,
     "metadata": {},
     "output_type": "execute_result"
    },
    {
     "data": {
      "image/png": "[encoded data removed]",
      "text/plain": [
       "<Figure size 640x480 with 1 Axes>"
      ]
     },
     "metadata": {},
     "output_type": "display_data"
    }
   ],
   "source": [
    "#delete 'or' in order date.\n",
    "all_file = all_file[all_file['Order Date'].str[0:2] != 'Or'] # see where the error happen\n",
    "\n",
    "#Add Month column.\n",
    "all_file['Month'] = all_file['Order Date'].str[0:2]\n",
    "\n",
    "#Convert colums to correct type\n",
    "all_file['Month'] = all_file['Month']\n",
    "all_file['Quantity Ordered'] = pd.to_numeric(all_file['Quantity Ordered'])\n",
    "all_file['Price Each'] = pd.to_numeric(all_file['Price Each'])\n",
    "\n",
    "\n",
    "\n",
    "#find per_order_sale_value = 'Quantity Ordered' * 'Price Each'\n",
    "all_file['per_order_sale_value'] = all_file['Quantity Ordered'] * all_file['Price Each']\n",
    "\n",
    "# Find best month with best sale\n",
    "\n",
    "monthly_sale_value_y = all_file.groupby('Month').sum('numeric_only')\n",
    "months_x = range(1,13)\n",
    "\n",
    "plt.bar(months_x, monthly_sale_value_y['per_order_sale_value'])\n",
    "plt.xticks(months_x)\n",
    "plt.ylabel('sale in usd')\n",
    "plt.xlabel('Month')\n",
    "plt.show\n",
    "\n",
    "### Answer ----> December have highest sale "
   ]
  },
  {
   "cell_type": "code",
   "execution_count": 36,
   "id": "57ba3de0",
   "metadata": {},
   "outputs": [
    {
     "data": {
      "text/html": [
       "<div>\n",
       "<style scoped>\n",
       "    .dataframe tbody tr th:only-of-type {\n",
       "        vertical-align: middle;\n",
       "    }\n",
       "\n",
       "    .dataframe tbody tr th {\n",
       "        vertical-align: top;\n",
       "    }\n",
       "\n",
       "    .dataframe thead th {\n",
       "        text-align: right;\n",
       "    }\n",
       "</style>\n",
       "<table border=\"1\" class=\"dataframe\">\n",
       "  <thead>\n",
       "    <tr style=\"text-align: right;\">\n",
       "      <th></th>\n",
       "      <th>Order ID</th>\n",
       "      <th>Product</th>\n",
       "      <th>Quantity Ordered</th>\n",
       "      <th>Price Each</th>\n",
       "      <th>Order Date</th>\n",
       "      <th>Purchase Address</th>\n",
       "      <th>Month</th>\n",
       "      <th>per_order_sale_value</th>\n",
       "    </tr>\n",
       "  </thead>\n",
       "  <tbody>\n",
       "    <tr>\n",
       "      <th>0</th>\n",
       "      <td>176558</td>\n",
       "      <td>USB-C Charging Cable</td>\n",
       "      <td>2</td>\n",
       "      <td>11.95</td>\n",
       "      <td>04/19/19 08:46</td>\n",
       "      <td>917 1st St, Dallas, TX 75001</td>\n",
       "      <td>04</td>\n",
       "      <td>23.90</td>\n",
       "    </tr>\n",
       "    <tr>\n",
       "      <th>2</th>\n",
       "      <td>176559</td>\n",
       "      <td>Bose SoundSport Headphones</td>\n",
       "      <td>1</td>\n",
       "      <td>99.99</td>\n",
       "      <td>04/07/19 22:30</td>\n",
       "      <td>682 Chestnut St, Boston, MA 02215</td>\n",
       "      <td>04</td>\n",
       "      <td>99.99</td>\n",
       "    </tr>\n",
       "    <tr>\n",
       "      <th>3</th>\n",
       "      <td>176560</td>\n",
       "      <td>Google Phone</td>\n",
       "      <td>1</td>\n",
       "      <td>600.00</td>\n",
       "      <td>04/12/19 14:38</td>\n",
       "      <td>669 Spruce St, Los Angeles, CA 90001</td>\n",
       "      <td>04</td>\n",
       "      <td>600.00</td>\n",
       "    </tr>\n",
       "    <tr>\n",
       "      <th>4</th>\n",
       "      <td>176560</td>\n",
       "      <td>Wired Headphones</td>\n",
       "      <td>1</td>\n",
       "      <td>11.99</td>\n",
       "      <td>04/12/19 14:38</td>\n",
       "      <td>669 Spruce St, Los Angeles, CA 90001</td>\n",
       "      <td>04</td>\n",
       "      <td>11.99</td>\n",
       "    </tr>\n",
       "    <tr>\n",
       "      <th>5</th>\n",
       "      <td>176561</td>\n",
       "      <td>Wired Headphones</td>\n",
       "      <td>1</td>\n",
       "      <td>11.99</td>\n",
       "      <td>04/30/19 09:27</td>\n",
       "      <td>333 8th St, Los Angeles, CA 90001</td>\n",
       "      <td>04</td>\n",
       "      <td>11.99</td>\n",
       "    </tr>\n",
       "  </tbody>\n",
       "</table>\n",
       "</div>"
      ],
      "text/plain": [
       "  Order ID                     Product  Quantity Ordered  Price Each  \\\n",
       "0   176558        USB-C Charging Cable                 2       11.95   \n",
       "2   176559  Bose SoundSport Headphones                 1       99.99   \n",
       "3   176560                Google Phone                 1      600.00   \n",
       "4   176560            Wired Headphones                 1       11.99   \n",
       "5   176561            Wired Headphones                 1       11.99   \n",
       "\n",
       "       Order Date                      Purchase Address Month  \\\n",
       "0  04/19/19 08:46          917 1st St, Dallas, TX 75001    04   \n",
       "2  04/07/19 22:30     682 Chestnut St, Boston, MA 02215    04   \n",
       "3  04/12/19 14:38  669 Spruce St, Los Angeles, CA 90001    04   \n",
       "4  04/12/19 14:38  669 Spruce St, Los Angeles, CA 90001    04   \n",
       "5  04/30/19 09:27     333 8th St, Los Angeles, CA 90001    04   \n",
       "\n",
       "   per_order_sale_value  \n",
       "0                 23.90  \n",
       "2                 99.99  \n",
       "3                600.00  \n",
       "4                 11.99  \n",
       "5                 11.99  "
      ]
     },
     "execution_count": 36,
     "metadata": {},
     "output_type": "execute_result"
    }
   ],
   "source": [
    "all_file.head()"
   ]
  },
  {
   "cell_type": "markdown",
   "id": "1ac57498",
   "metadata": {},
   "source": [
    "### Question2: What city had the highest number of sales."
   ]
  },
  {
   "cell_type": "code",
   "execution_count": 37,
   "id": "165912c3",
   "metadata": {},
   "outputs": [
    {
     "data": {
      "image/png": "[encoded data removed]",
      "text/plain": [
       "<Figure size 640x480 with 1 Axes>"
      ]
     },
     "metadata": {},
     "output_type": "display_data"
    }
   ],
   "source": [
    "temp_file = all_file\n",
    "\n",
    "#function get_city \n",
    "def get_city(adress):\n",
    "    return adress.split(',')[1]\n",
    "\n",
    "#function get_state\n",
    "def get_state(adress):\n",
    "    return (adress.split(',')[2]).split(' ')[1]\n",
    "\n",
    "\n",
    "#apply function on the col using lambda to get the city name\n",
    "temp_file['City'] = temp_file['Purchase Address'].apply(lambda x: get_city(x))\n",
    "temp_file['City'] = temp_file['City'] + ', '+ temp_file['Purchase Address'].apply(lambda x: get_state(x))\n",
    "cities_x = [city for city, df in temp_file.groupby('City')]\n",
    "cities_sale_values_y = temp_file.groupby('City').sum('numeric_only')['per_order_sale_value']\n",
    "\n",
    "plt.bar(cities_x, cities_sale_values_y)\n",
    "plt.xticks(cities_x, rotation ='vertical', size =8)\n",
    "plt.show()\n"
   ]
  },
  {
   "cell_type": "markdown",
   "id": "1f17f8c4",
   "metadata": {},
   "source": [
    "### What time should we display advertisement to maximize likehood of customer's buying prodict?"
   ]
  },
  {
   "cell_type": "code",
   "execution_count": 38,
   "id": "c251a7e6",
   "metadata": {},
   "outputs": [],
   "source": [
    "all_file['Order Date'] = pd.to_datetime(all_file['Order Date'])"
   ]
  },
  {
   "cell_type": "code",
   "execution_count": 39,
   "id": "57d1de95",
   "metadata": {},
   "outputs": [
    {
     "data": {
      "text/html": [
       "<div>\n",
       "<style scoped>\n",
       "    .dataframe tbody tr th:only-of-type {\n",
       "        vertical-align: middle;\n",
       "    }\n",
       "\n",
       "    .dataframe tbody tr th {\n",
       "        vertical-align: top;\n",
       "    }\n",
       "\n",
       "    .dataframe thead th {\n",
       "        text-align: right;\n",
       "    }\n",
       "</style>\n",
       "<table border=\"1\" class=\"dataframe\">\n",
       "  <thead>\n",
       "    <tr style=\"text-align: right;\">\n",
       "      <th></th>\n",
       "      <th>Order ID</th>\n",
       "      <th>Product</th>\n",
       "      <th>Quantity Ordered</th>\n",
       "      <th>Price Each</th>\n",
       "      <th>Order Date</th>\n",
       "      <th>Purchase Address</th>\n",
       "      <th>Month</th>\n",
       "      <th>per_order_sale_value</th>\n",
       "      <th>City</th>\n",
       "      <th>Hour</th>\n",
       "      <th>Minute</th>\n",
       "    </tr>\n",
       "  </thead>\n",
       "  <tbody>\n",
       "    <tr>\n",
       "      <th>0</th>\n",
       "      <td>176558</td>\n",
       "      <td>USB-C Charging Cable</td>\n",
       "      <td>2</td>\n",
       "      <td>11.95</td>\n",
       "      <td>2019-04-19 08:46:00</td>\n",
       "      <td>917 1st St, Dallas, TX 75001</td>\n",
       "      <td>04</td>\n",
       "      <td>23.90</td>\n",
       "      <td>Dallas, TX</td>\n",
       "      <td>8</td>\n",
       "      <td>46</td>\n",
       "    </tr>\n",
       "    <tr>\n",
       "      <th>2</th>\n",
       "      <td>176559</td>\n",
       "      <td>Bose SoundSport Headphones</td>\n",
       "      <td>1</td>\n",
       "      <td>99.99</td>\n",
       "      <td>2019-04-07 22:30:00</td>\n",
       "      <td>682 Chestnut St, Boston, MA 02215</td>\n",
       "      <td>04</td>\n",
       "      <td>99.99</td>\n",
       "      <td>Boston, MA</td>\n",
       "      <td>22</td>\n",
       "      <td>30</td>\n",
       "    </tr>\n",
       "    <tr>\n",
       "      <th>3</th>\n",
       "      <td>176560</td>\n",
       "      <td>Google Phone</td>\n",
       "      <td>1</td>\n",
       "      <td>600.00</td>\n",
       "      <td>2019-04-12 14:38:00</td>\n",
       "      <td>669 Spruce St, Los Angeles, CA 90001</td>\n",
       "      <td>04</td>\n",
       "      <td>600.00</td>\n",
       "      <td>Los Angeles, CA</td>\n",
       "      <td>14</td>\n",
       "      <td>38</td>\n",
       "    </tr>\n",
       "    <tr>\n",
       "      <th>4</th>\n",
       "      <td>176560</td>\n",
       "      <td>Wired Headphones</td>\n",
       "      <td>1</td>\n",
       "      <td>11.99</td>\n",
       "      <td>2019-04-12 14:38:00</td>\n",
       "      <td>669 Spruce St, Los Angeles, CA 90001</td>\n",
       "      <td>04</td>\n",
       "      <td>11.99</td>\n",
       "      <td>Los Angeles, CA</td>\n",
       "      <td>14</td>\n",
       "      <td>38</td>\n",
       "    </tr>\n",
       "    <tr>\n",
       "      <th>5</th>\n",
       "      <td>176561</td>\n",
       "      <td>Wired Headphones</td>\n",
       "      <td>1</td>\n",
       "      <td>11.99</td>\n",
       "      <td>2019-04-30 09:27:00</td>\n",
       "      <td>333 8th St, Los Angeles, CA 90001</td>\n",
       "      <td>04</td>\n",
       "      <td>11.99</td>\n",
       "      <td>Los Angeles, CA</td>\n",
       "      <td>9</td>\n",
       "      <td>27</td>\n",
       "    </tr>\n",
       "    <tr>\n",
       "      <th>6</th>\n",
       "      <td>176562</td>\n",
       "      <td>USB-C Charging Cable</td>\n",
       "      <td>1</td>\n",
       "      <td>11.95</td>\n",
       "      <td>2019-04-29 13:03:00</td>\n",
       "      <td>381 Wilson St, San Francisco, CA 94016</td>\n",
       "      <td>04</td>\n",
       "      <td>11.95</td>\n",
       "      <td>San Francisco, CA</td>\n",
       "      <td>13</td>\n",
       "      <td>3</td>\n",
       "    </tr>\n",
       "    <tr>\n",
       "      <th>7</th>\n",
       "      <td>176563</td>\n",
       "      <td>Bose SoundSport Headphones</td>\n",
       "      <td>1</td>\n",
       "      <td>99.99</td>\n",
       "      <td>2019-04-02 07:46:00</td>\n",
       "      <td>668 Center St, Seattle, WA 98101</td>\n",
       "      <td>04</td>\n",
       "      <td>99.99</td>\n",
       "      <td>Seattle, WA</td>\n",
       "      <td>7</td>\n",
       "      <td>46</td>\n",
       "    </tr>\n",
       "    <tr>\n",
       "      <th>8</th>\n",
       "      <td>176564</td>\n",
       "      <td>USB-C Charging Cable</td>\n",
       "      <td>1</td>\n",
       "      <td>11.95</td>\n",
       "      <td>2019-04-12 10:58:00</td>\n",
       "      <td>790 Ridge St, Atlanta, GA 30301</td>\n",
       "      <td>04</td>\n",
       "      <td>11.95</td>\n",
       "      <td>Atlanta, GA</td>\n",
       "      <td>10</td>\n",
       "      <td>58</td>\n",
       "    </tr>\n",
       "    <tr>\n",
       "      <th>9</th>\n",
       "      <td>176565</td>\n",
       "      <td>Macbook Pro Laptop</td>\n",
       "      <td>1</td>\n",
       "      <td>1700.00</td>\n",
       "      <td>2019-04-24 10:38:00</td>\n",
       "      <td>915 Willow St, San Francisco, CA 94016</td>\n",
       "      <td>04</td>\n",
       "      <td>1700.00</td>\n",
       "      <td>San Francisco, CA</td>\n",
       "      <td>10</td>\n",
       "      <td>38</td>\n",
       "    </tr>\n",
       "    <tr>\n",
       "      <th>10</th>\n",
       "      <td>176566</td>\n",
       "      <td>Wired Headphones</td>\n",
       "      <td>1</td>\n",
       "      <td>11.99</td>\n",
       "      <td>2019-04-08 14:05:00</td>\n",
       "      <td>83 7th St, Boston, MA 02215</td>\n",
       "      <td>04</td>\n",
       "      <td>11.99</td>\n",
       "      <td>Boston, MA</td>\n",
       "      <td>14</td>\n",
       "      <td>5</td>\n",
       "    </tr>\n",
       "  </tbody>\n",
       "</table>\n",
       "</div>"
      ],
      "text/plain": [
       "   Order ID                     Product  Quantity Ordered  Price Each  \\\n",
       "0    176558        USB-C Charging Cable                 2       11.95   \n",
       "2    176559  Bose SoundSport Headphones                 1       99.99   \n",
       "3    176560                Google Phone                 1      600.00   \n",
       "4    176560            Wired Headphones                 1       11.99   \n",
       "5    176561            Wired Headphones                 1       11.99   \n",
       "6    176562        USB-C Charging Cable                 1       11.95   \n",
       "7    176563  Bose SoundSport Headphones                 1       99.99   \n",
       "8    176564        USB-C Charging Cable                 1       11.95   \n",
       "9    176565          Macbook Pro Laptop                 1     1700.00   \n",
       "10   176566            Wired Headphones                 1       11.99   \n",
       "\n",
       "            Order Date                        Purchase Address Month  \\\n",
       "0  2019-04-19 08:46:00            917 1st St, Dallas, TX 75001    04   \n",
       "2  2019-04-07 22:30:00       682 Chestnut St, Boston, MA 02215    04   \n",
       "3  2019-04-12 14:38:00    669 Spruce St, Los Angeles, CA 90001    04   \n",
       "4  2019-04-12 14:38:00    669 Spruce St, Los Angeles, CA 90001    04   \n",
       "5  2019-04-30 09:27:00       333 8th St, Los Angeles, CA 90001    04   \n",
       "6  2019-04-29 13:03:00  381 Wilson St, San Francisco, CA 94016    04   \n",
       "7  2019-04-02 07:46:00        668 Center St, Seattle, WA 98101    04   \n",
       "8  2019-04-12 10:58:00         790 Ridge St, Atlanta, GA 30301    04   \n",
       "9  2019-04-24 10:38:00  915 Willow St, San Francisco, CA 94016    04   \n",
       "10 2019-04-08 14:05:00             83 7th St, Boston, MA 02215    04   \n",
       "\n",
       "    per_order_sale_value                City  Hour  Minute  \n",
       "0                  23.90          Dallas, TX     8      46  \n",
       "2                  99.99          Boston, MA    22      30  \n",
       "3                 600.00     Los Angeles, CA    14      38  \n",
       "4                  11.99     Los Angeles, CA    14      38  \n",
       "5                  11.99     Los Angeles, CA     9      27  \n",
       "6                  11.95   San Francisco, CA    13       3  \n",
       "7                  99.99         Seattle, WA     7      46  \n",
       "8                  11.95         Atlanta, GA    10      58  \n",
       "9                1700.00   San Francisco, CA    10      38  \n",
       "10                 11.99          Boston, MA    14       5  "
      ]
     },
     "execution_count": 39,
     "metadata": {},
     "output_type": "execute_result"
    }
   ],
   "source": [
    "all_file['Hour'] = all_file['Order Date'].dt.hour #dt.hour is an build in function to extract data from date format\n",
    "all_file['Minute'] = all_file['Order Date'].dt.minute\n",
    "all_file.head(10)"
   ]
  },
  {
   "cell_type": "code",
   "execution_count": 40,
   "id": "01f01aaf",
   "metadata": {},
   "outputs": [
    {
     "data": {
      "image/png": "[encoded data removed]",
      "text/plain": [
       "<Figure size 640x480 with 1 Axes>"
      ]
     },
     "metadata": {},
     "output_type": "display_data"
    }
   ],
   "source": [
    "hours = [hour for hour, df in all_file.groupby('Hour')]\n",
    "\n",
    "graph_1_x = hours\n",
    "graph_1_y = all_file.groupby(all_file['Hour']).count()\n",
    "\n",
    "\n",
    "plt.plot(graph_1_x, graph_1_y )\n",
    "plt.xticks(hours)\n",
    "plt.grid()\n",
    "plt.xlabel('Hour')\n",
    "plt.ylabel('Number of sale per hour')\n",
    "plt.show()"
   ]
  },
  {
   "cell_type": "markdown",
   "id": "4a89039c",
   "metadata": {},
   "source": [
    "#### answer: the best time to advertisment is 11-13 and 17-20"
   ]
  },
  {
   "cell_type": "markdown",
   "id": "efd02d8d",
   "metadata": {},
   "source": [
    "## Queston4: What product are most often sale together?"
   ]
  },
  {
   "cell_type": "code",
   "execution_count": 42,
   "id": "9bcd2e45",
   "metadata": {},
   "outputs": [
    {
     "name": "stderr",
     "output_type": "stream",
     "text": [
      "C:\\Users\\ninjaDellxps15\\AppData\\Local\\Temp\\ipykernel_46640\\298739006.py:3: SettingWithCopyWarning: \n",
      "A value is trying to be set on a copy of a slice from a DataFrame.\n",
      "Try using .loc[row_indexer,col_indexer] = value instead\n",
      "\n",
      "See the caveats in the documentation: https://pandas.pydata.org/pandas-docs/stable/user_guide/indexing.html#returning-a-view-versus-a-copy\n",
      "  df['Grouped'] = df.groupby('Order ID')['Product'].transform(lambda x: ','.join(x))\n"
     ]
    },
    {
     "data": {
      "text/html": [
       "<div>\n",
       "<style scoped>\n",
       "    .dataframe tbody tr th:only-of-type {\n",
       "        vertical-align: middle;\n",
       "    }\n",
       "\n",
       "    .dataframe tbody tr th {\n",
       "        vertical-align: top;\n",
       "    }\n",
       "\n",
       "    .dataframe thead th {\n",
       "        text-align: right;\n",
       "    }\n",
       "</style>\n",
       "<table border=\"1\" class=\"dataframe\">\n",
       "  <thead>\n",
       "    <tr style=\"text-align: right;\">\n",
       "      <th></th>\n",
       "      <th>Order ID</th>\n",
       "      <th>Grouped</th>\n",
       "    </tr>\n",
       "  </thead>\n",
       "  <tbody>\n",
       "    <tr>\n",
       "      <th>3</th>\n",
       "      <td>176560</td>\n",
       "      <td>Google Phone,Wired Headphones</td>\n",
       "    </tr>\n",
       "    <tr>\n",
       "      <th>18</th>\n",
       "      <td>176574</td>\n",
       "      <td>Google Phone,USB-C Charging Cable</td>\n",
       "    </tr>\n",
       "    <tr>\n",
       "      <th>30</th>\n",
       "      <td>176585</td>\n",
       "      <td>Bose SoundSport Headphones,Bose SoundSport Hea...</td>\n",
       "    </tr>\n",
       "    <tr>\n",
       "      <th>32</th>\n",
       "      <td>176586</td>\n",
       "      <td>AAA Batteries (4-pack),Google Phone</td>\n",
       "    </tr>\n",
       "    <tr>\n",
       "      <th>119</th>\n",
       "      <td>176672</td>\n",
       "      <td>Lightning Charging Cable,USB-C Charging Cable</td>\n",
       "    </tr>\n",
       "  </tbody>\n",
       "</table>\n",
       "</div>"
      ],
      "text/plain": [
       "    Order ID                                            Grouped\n",
       "3     176560                      Google Phone,Wired Headphones\n",
       "18    176574                  Google Phone,USB-C Charging Cable\n",
       "30    176585  Bose SoundSport Headphones,Bose SoundSport Hea...\n",
       "32    176586                AAA Batteries (4-pack),Google Phone\n",
       "119   176672      Lightning Charging Cable,USB-C Charging Cable"
      ]
     },
     "execution_count": 42,
     "metadata": {},
     "output_type": "execute_result"
    }
   ],
   "source": [
    "df = all_file[all_file['Order ID'].duplicated(keep=False)] #only checked for the deplicated\n",
    "\n",
    "df['Grouped'] = df.groupby('Order ID')['Product'].transform(lambda x: ','.join(x))\n",
    "df = df[['Order ID','Grouped']].drop_duplicates()\n",
    "df.head()\n"
   ]
  },
  {
   "cell_type": "code",
   "execution_count": null,
   "id": "5d664b52",
   "metadata": {},
   "outputs": [],
   "source": [
    "from itertools import combinations\n",
    "from collections import Counter"
   ]
  },
  {
   "cell_type": "code",
   "execution_count": null,
   "id": "7a74a456",
   "metadata": {},
   "outputs": [],
   "source": []
  }
 ],
 "metadata": {
  "kernelspec": {
   "display_name": "Python 3 (ipykernel)",
   "language": "python",
   "name": "python3"
  },
  "language_info": {
   "codemirror_mode": {
    "name": "ipython",
    "version": 3
   },
   "file_extension": ".py",
   "mimetype": "text/x-python",
   "name": "python",
   "nbconvert_exporter": "python",
   "pygments_lexer": "ipython3",
   "version": "3.11.4"
  }
 },
 "nbformat": 4,
 "nbformat_minor": 5
}
